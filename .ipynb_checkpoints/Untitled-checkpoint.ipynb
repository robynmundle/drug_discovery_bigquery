{
 "cells": [
  {
   "cell_type": "markdown",
   "id": "f8e56daf-ff38-476b-8009-d5aca6360b72",
   "metadata": {},
   "source": [
    "# Exploring the BigQuery API"
   ]
  },
  {
   "cell_type": "code",
   "execution_count": 7,
   "id": "95db2cf0-c7ab-4ff2-b068-ea99db7dac12",
   "metadata": {},
   "outputs": [
    {
     "ename": "ModuleNotFoundError",
     "evalue": "No module named 'bq_helper'",
     "output_type": "error",
     "traceback": [
      "\u001b[1;31m---------------------------------------------------------------------------\u001b[0m",
      "\u001b[1;31mModuleNotFoundError\u001b[0m                       Traceback (most recent call last)",
      "\u001b[1;32m<ipython-input-7-595690296e8c>\u001b[0m in \u001b[0;36m<module>\u001b[1;34m\u001b[0m\n\u001b[0;32m      1\u001b[0m \u001b[1;31m# Start by importing the bq_helper module and calling on the specific active_project and dataset_name for the BigQuery dataset.\u001b[0m\u001b[1;33m\u001b[0m\u001b[1;33m\u001b[0m\u001b[1;33m\u001b[0m\u001b[0m\n\u001b[1;32m----> 2\u001b[1;33m \u001b[1;32mimport\u001b[0m \u001b[0mbq_helper\u001b[0m\u001b[1;33m\u001b[0m\u001b[1;33m\u001b[0m\u001b[0m\n\u001b[0m\u001b[0;32m      3\u001b[0m \u001b[1;32mfrom\u001b[0m \u001b[0mbq_helper\u001b[0m \u001b[1;32mimport\u001b[0m \u001b[0mBigQueryHelper\u001b[0m\u001b[1;33m\u001b[0m\u001b[1;33m\u001b[0m\u001b[0m\n\u001b[0;32m      4\u001b[0m \u001b[1;31m# https://www.kaggle.com/sohier/introduction-to-the-bq-helper-package\u001b[0m\u001b[1;33m\u001b[0m\u001b[1;33m\u001b[0m\u001b[1;33m\u001b[0m\u001b[0m\n\u001b[0;32m      5\u001b[0m \u001b[1;33m\u001b[0m\u001b[0m\n",
      "\u001b[1;31mModuleNotFoundError\u001b[0m: No module named 'bq_helper'"
     ]
    }
   ],
   "source": [
    "# Start by importing the bq_helper module and calling on the specific active_project and dataset_name for the BigQuery dataset.\n",
    "import bq_helper\n",
    "from bq_helper import BigQueryHelper\n",
    "# https://www.kaggle.com/sohier/introduction-to-the-bq-helper-package\n",
    "\n",
    "patents = bq_helper.BigQueryHelper(active_project=\"patents-public-data\",\n",
    "                                   dataset_name=\"patents\")"
   ]
  },
  {
   "cell_type": "code",
   "execution_count": null,
   "id": "91596c60-59d1-4156-9a87-70f7d41b2057",
   "metadata": {},
   "outputs": [],
   "source": []
  }
 ],
 "metadata": {
  "kernelspec": {
   "display_name": "Python 3",
   "language": "python",
   "name": "python3"
  },
  "language_info": {
   "codemirror_mode": {
    "name": "ipython",
    "version": 3
   },
   "file_extension": ".py",
   "mimetype": "text/x-python",
   "name": "python",
   "nbconvert_exporter": "python",
   "pygments_lexer": "ipython3",
   "version": "3.8.10"
  }
 },
 "nbformat": 4,
 "nbformat_minor": 5
}
